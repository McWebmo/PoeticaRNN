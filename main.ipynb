{
 "cells": [
  {
   "cell_type": "code",
   "execution_count": 74,
   "metadata": {},
   "outputs": [],
   "source": [
    "import random\n",
    "import tensorflow as tf\n",
    "import numpy as np\n",
    "from tensorflow.keras.models import Sequential\n",
    "from tensorflow.keras.layers import LSTM, Dense, Activation\n",
    "from tensorflow.keras.optimizers import RMSprop"
   ]
  },
  {
   "cell_type": "code",
   "execution_count": 61,
   "metadata": {},
   "outputs": [],
   "source": [
    "data_URL = 'https://storage.googleapis.com/download.tensorflow.org/data/shakespeare.txt'\n",
    "\n",
    "data_path = tf.keras.utils.get_file(\"dataset.txt\", data_URL)\n",
    "\n",
    "text = open(data_path, \"rb\").read().decode(\"utf-8\").lower()\n",
    "\n",
    "text = text[300000:800000]"
   ]
  },
  {
   "cell_type": "code",
   "execution_count": 62,
   "metadata": {},
   "outputs": [],
   "source": [
    "vocab = sorted(set(text))\n",
    "\n",
    "char_to_index = {c: i for i, c in enumerate(vocab)}\n",
    "index_to_char = {i:c for i, c in enumerate(vocab)}"
   ]
  },
  {
   "cell_type": "code",
   "execution_count": 63,
   "metadata": {},
   "outputs": [
    {
     "name": "stdout",
     "output_type": "stream",
     "text": [
      "166654\n"
     ]
    }
   ],
   "source": [
    "sequences = []\n",
    "next_char = []\n",
    "\n",
    "sequenceSize = 40\n",
    "stepSize = 3\n",
    "\n",
    "for i in range(0, len(text)-sequenceSize, stepSize):\n",
    "    sequences.append(text[ i : i+sequenceSize ])\n",
    "    next_char.append(text[ i+sequenceSize ])\n",
    "print(len(sequences))"
   ]
  },
  {
   "cell_type": "code",
   "execution_count": 64,
   "metadata": {},
   "outputs": [],
   "source": [
    "x = np.zeros((len(sequences), sequenceSize, len(vocab)), dtype=\"bool\")\n",
    "y = np.zeros((len(sequences), len(vocab)), dtype=\"bool\" )\n",
    "\n",
    "for i, sequence in enumerate(sequences):\n",
    "    for t, char in enumerate(sequence):\n",
    "        x[i, t, char_to_index[char]] = 1\n",
    "    y[i, char_to_index[next_char[i]]] = 1"
   ]
  },
  {
   "cell_type": "code",
   "execution_count": 70,
   "metadata": {},
   "outputs": [],
   "source": [
    "model = Sequential({\n",
    "    LSTM(128, input_shape=(sequenceSize, len(vocab))),\n",
    "    Dense(len(vocab), activation=\"softmax\")\n",
    "})\n",
    "\n",
    "model.compile(loss=\"categorical_crossentropy\", optimizer=RMSprop(learning_rate=0.01))"
   ]
  },
  {
   "cell_type": "code",
   "execution_count": null,
   "metadata": {},
   "outputs": [],
   "source": [
    "model.fit(x, y, batch_size=256, epochs=10)\n",
    "\n",
    "model.save(\"text_genrator.h5\")"
   ]
  },
  {
   "cell_type": "code",
   "execution_count": 76,
   "metadata": {},
   "outputs": [],
   "source": [
    "def sample(preds, temperature=1.0):\n",
    "    preds = np.asarray(preds).astype(\"float64\")\n",
    "    preds = np.log(preds) / temperature\n",
    "    exp_preds = np.exp(preds)\n",
    "    preds = exp_preds / np.sum(exp_preds)\n",
    "    probas = np.random.multinomial(1, preds, 1)\n",
    "    return np.argmax(probas)\n",
    "\n",
    "def generate_text(length, temp):\n",
    "    generated = \"\"\n",
    "    starting_index = random.randint(0, len(text) - sequenceSize - 1)\n",
    "    sentence = text[starting_index : starting_index + sequenceSize]\n",
    "    generated += sentence\n",
    "    \n",
    "    for i in range(length):\n",
    "        x = np.zeros((1, sequenceSize, len(vocab)))\n",
    "        for t, char in enumerate(sentence):\n",
    "            x[i, t, char_to_index[i]] = 1\n",
    "        preds = model.predict(x)[0]\n",
    "        nextCharIndex = sample(preds)\n",
    "        next_char = index_to_char[nextCharIndex]\n",
    "        generated += next_char\n",
    "        sentence = sentence[1:] + next_char\n",
    "    return generated\n",
    "        "
   ]
  },
  {
   "cell_type": "code",
   "execution_count": null,
   "metadata": {},
   "outputs": [],
   "source": []
  }
 ],
 "metadata": {
  "kernelspec": {
   "display_name": "Python 3",
   "language": "python",
   "name": "python3"
  },
  "language_info": {
   "codemirror_mode": {
    "name": "ipython",
    "version": 3
   },
   "file_extension": ".py",
   "mimetype": "text/x-python",
   "name": "python",
   "nbconvert_exporter": "python",
   "pygments_lexer": "ipython3",
   "version": "3.12.5"
  }
 },
 "nbformat": 4,
 "nbformat_minor": 2
}
