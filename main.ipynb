{
 "cells": [
  {
   "cell_type": "code",
   "execution_count": null,
   "metadata": {},
   "outputs": [],
   "source": [
    "import tensorflow as tf\n",
    "import numpy as np\n",
    "from tensorflow.keras.models import Sequential\n",
    "from tensorflow.keras.layers import LSTM, Dense, Activation\n",
    "from tensorflow.keras.optimizers import RMSprop"
   ]
  },
  {
   "cell_type": "code",
   "execution_count": 61,
   "metadata": {},
   "outputs": [],
   "source": [
    "data_URL = 'https://storage.googleapis.com/download.tensorflow.org/data/shakespeare.txt'\n",
    "\n",
    "data_path = tf.keras.utils.get_file(\"dataset.txt\", data_URL)\n",
    "\n",
    "text = open(data_path, \"rb\").read().decode(\"utf-8\").lower()\n",
    "\n",
    "text = text[300000:800000]"
   ]
  },
  {
   "cell_type": "code",
   "execution_count": 62,
   "metadata": {},
   "outputs": [],
   "source": [
    "vocab = sorted(set(text))\n",
    "\n",
    "char_to_index = {c: i for i, c in enumerate(vocab)}\n",
    "index_to_char = {i:c for i, c in enumerate(vocab)}"
   ]
  },
  {
   "cell_type": "code",
   "execution_count": 63,
   "metadata": {},
   "outputs": [
    {
     "name": "stdout",
     "output_type": "stream",
     "text": [
      "166654\n"
     ]
    }
   ],
   "source": [
    "sequences = []\n",
    "next_char = []\n",
    "\n",
    "sequenceSize = 40\n",
    "stepSize = 3\n",
    "\n",
    "for i in range(0, len(text)-sequenceSize, stepSize):\n",
    "    sequences.append(text[ i : i+sequenceSize ])\n",
    "    next_char.append(text[ i+sequenceSize ])\n",
    "print(len(sequences))"
   ]
  },
  {
   "cell_type": "code",
   "execution_count": 64,
   "metadata": {},
   "outputs": [],
   "source": [
    "x = np.zeros((len(sequences), sequenceSize, len(vocab)), dtype=\"bool\")\n",
    "y = np.zeros((len(sequences), len(vocab)), dtype=\"bool\" )\n",
    "\n",
    "for i, sequence in enumerate(sequences):\n",
    "    for t, char in enumerate(sequence):\n",
    "        x[i, t, char_to_index[char]] = 1\n",
    "    y[i, char_to_index[next_char[i]]] = 1"
   ]
  },
  {
   "cell_type": "code",
   "execution_count": 70,
   "metadata": {},
   "outputs": [],
   "source": [
    "model = Sequential({\n",
    "    LSTM(128, input_shape=(sequenceSize, len(vocab))),\n",
    "    Dense(len(vocab), activation=\"softmax\")\n",
    "})\n",
    "\n",
    "model.compile(loss=\"categorical_crossentropy\", optimizer=RMSprop(learning_rate=0.01))"
   ]
  },
  {
   "cell_type": "code",
   "execution_count": null,
   "metadata": {},
   "outputs": [],
   "source": [
    "model.fit(x, y, batch_size=256, epochs=10)\n",
    "\n",
    "model.save(\"text_genrator.model\")"
   ]
  }
 ],
 "metadata": {
  "kernelspec": {
   "display_name": "Python 3",
   "language": "python",
   "name": "python3"
  },
  "language_info": {
   "codemirror_mode": {
    "name": "ipython",
    "version": 3
   },
   "file_extension": ".py",
   "mimetype": "text/x-python",
   "name": "python",
   "nbconvert_exporter": "python",
   "pygments_lexer": "ipython3",
   "version": "3.12.5"
  }
 },
 "nbformat": 4,
 "nbformat_minor": 2
}
